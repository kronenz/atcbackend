{
 "cells": [
  {
   "cell_type": "code",
   "execution_count": 5,
   "metadata": {},
   "outputs": [],
   "source": [
    "\n",
    "from ncclient import manager\n",
    "from ncclient.xml_ import to_ele\n",
    "import xmltodict,json\n",
    "\n",
    "klm_host = \"10.0.20.150\"\n",
    "klm_user = \"admin\"\n",
    "klm_pwd = \"Forwiz_SDF1\"\n",
    "\n",
    "\n",
    "# Connect to the Kaloom Netconf server\n",
    "\n",
    "cnn = manager.connect(\n",
    "    host=klm_host,\n",
    "    port=830,\n",
    "    username=klm_user,\n",
    "    password=klm_pwd,\n",
    "    hostkey_verify=False)\n",
    "    # Build the RPC request using the Kaloom Netconf data model\n"
   ]
  },
  {
   "cell_type": "code",
   "execution_count": 8,
   "metadata": {},
   "outputs": [],
   "source": [
    "def kaloom_netconf_rpc(rpc):\n",
    "    try:\n",
    "        with manager.connect(host=klm_host, port=830, username=klm_user, password=klm_pwd, hostkey_verify=False) as m:\n",
    "            c = m.rpc(to_ele(rpc)).xml\n",
    "            parsed_data = xmltodict.parse(c)['rpc-reply']\n",
    "            return parsed_data\n",
    "    except Exception as e :\n",
    "        return {\"error\": \"cannot process the request\"}"
   ]
  },
  {
   "cell_type": "code",
   "execution_count": 9,
   "metadata": {},
   "outputs": [
    {
     "name": "stdout",
     "output_type": "stream",
     "text": [
      "<Element get at 0x7fc385872a80>\n",
      "{'@xmlns:nc': 'urn:ietf:params:xml:ns:netconf:base:1.0', '@message-id': 'urn:uuid:46b181c3-78e4-463b-8c4c-c9d4d61ac11e', '@xmlns': 'urn:ietf:params:xml:ns:netconf:base:1.0', 'data': {'@xmlns:fabrics': 'urn:kaloom:faas:fabrics', 'fabrics:Fabric': {'fabrics:FabricID': '123', 'fabrics:Node': [{'fabrics:NodeID': '168c0ee5-9782-4842-80fe-520a088703ae', 'fabrics:Role': 'CONTROLLER', 'fabrics:TerminationPoint': {'fabrics:TpID': 'kvsenp4s0f0', 'fabrics:OperState': 'UP'}}, {'fabrics:NodeID': '7d3d3479-c58a-411d-a93f-60b039960bd0', 'fabrics:Role': 'CONTROLLER', 'fabrics:TerminationPoint': [{'fabrics:TpID': 'kvsenp4s0f0', 'fabrics:OperState': 'UP'}, {'fabrics:TpID': 'kvsenp4s0f1', 'fabrics:OperState': 'UP'}]}, {'fabrics:NodeID': 'afdf5672-20e9-4254-ac63-d34a5cda1486', 'fabrics:Role': 'LEAF', 'fabrics:TerminationPoint': [{'fabrics:TpID': 'sw1p7s1', 'fabrics:OperState': 'UP'}, {'fabrics:TpID': 'sw1p3s4', 'fabrics:OperState': 'UP'}, {'fabrics:TpID': 'sw1p7s2', 'fabrics:OperState': 'UP'}, {'fabrics:TpID': 'sw1p31s3', 'fabrics:OperState': 'UP'}, {'fabrics:TpID': 'sw1p31s2', 'fabrics:OperState': 'UP'}, {'fabrics:TpID': 'sw1p3s3', 'fabrics:OperState': 'UP'}, {'fabrics:TpID': 'sw1p5s2', 'fabrics:OperState': 'UP'}, {'fabrics:TpID': 'sw1p25s1', 'fabrics:OperState': 'UP'}, {'fabrics:TpID': 'sw1p7s3', 'fabrics:OperState': 'UP'}, {'fabrics:TpID': 'sw1p1s1', 'fabrics:OperState': 'UP'}, {'fabrics:TpID': 'sw1p5s3', 'fabrics:OperState': 'UP'}, {'fabrics:TpID': 'sw1p3s2', 'fabrics:OperState': 'UP'}, {'fabrics:TpID': 'sw1p7s4', 'fabrics:OperState': 'UP'}, {'fabrics:TpID': 'sw1p5s1', 'fabrics:OperState': 'UP'}, {'fabrics:TpID': 'sw1p1s2', 'fabrics:OperState': 'UP'}, {'fabrics:TpID': 'sw1p1s3', 'fabrics:OperState': 'UP'}, {'fabrics:TpID': 'sw1p3s1', 'fabrics:OperState': 'UP'}, {'fabrics:TpID': 'sw1p1s4', 'fabrics:OperState': 'UP'}, {'fabrics:TpID': 'sw1p5s4', 'fabrics:OperState': 'UP'}]}, {'fabrics:NodeID': 'df90eb6d-c978-4619-adbd-bc9893f525bd', 'fabrics:Role': 'LEAF', 'fabrics:TerminationPoint': [{'fabrics:TpID': 'sw1p7s4', 'fabrics:OperState': 'UP'}, {'fabrics:TpID': 'sw1p25s2', 'fabrics:OperState': 'UP'}, {'fabrics:TpID': 'sw1p3s4', 'fabrics:OperState': 'UP'}, {'fabrics:TpID': 'sw1p25s4', 'fabrics:OperState': 'UP'}, {'fabrics:TpID': 'sw1p3s2', 'fabrics:OperState': 'UP'}, {'fabrics:TpID': 'sw1p1s4', 'fabrics:OperState': 'UP'}, {'fabrics:TpID': 'sw1p25s3', 'fabrics:OperState': 'UP'}, {'fabrics:TpID': 'sw1p31s2', 'fabrics:OperState': 'UP'}, {'fabrics:TpID': 'sw1p7s3', 'fabrics:OperState': 'UP'}, {'fabrics:TpID': 'sw1p31s1', 'fabrics:OperState': 'UP'}, {'fabrics:TpID': 'sw1p1s2', 'fabrics:OperState': 'UP'}, {'fabrics:TpID': 'sw1p3s1', 'fabrics:OperState': 'UP'}, {'fabrics:TpID': 'sw1p5s3', 'fabrics:OperState': 'UP'}, {'fabrics:TpID': 'sw1p7s2', 'fabrics:OperState': 'UP'}, {'fabrics:TpID': 'sw1p7s1', 'fabrics:OperState': 'UP'}, {'fabrics:TpID': 'sw1p5s2', 'fabrics:OperState': 'UP'}, {'fabrics:TpID': 'sw1p5s4', 'fabrics:OperState': 'UP'}, {'fabrics:TpID': 'sw1p31s3', 'fabrics:OperState': 'UP'}, {'fabrics:TpID': 'sw1p5s1', 'fabrics:OperState': 'UP'}, {'fabrics:TpID': 'sw1p3s3', 'fabrics:OperState': 'UP'}, {'fabrics:TpID': 'sw1p1s1', 'fabrics:OperState': 'UP'}, {'fabrics:TpID': 'sw1p31s4', 'fabrics:OperState': 'UP'}, {'fabrics:TpID': 'sw1p1s3', 'fabrics:OperState': 'UP'}]}, {'fabrics:NodeID': '6054cf2d-15f3-4265-b0dc-b853ef136499', 'fabrics:Role': 'SPINE', 'fabrics:TerminationPoint': [{'fabrics:TpID': 'sw1p11s4', 'fabrics:OperState': 'UP'}, {'fabrics:TpID': 'sw1p5s4', 'fabrics:OperState': 'UP'}, {'fabrics:TpID': 'sw1p13s2', 'fabrics:OperState': 'UP'}, {'fabrics:TpID': 'sw1p7s1', 'fabrics:OperState': 'UP'}, {'fabrics:TpID': 'sw1p1s4', 'fabrics:OperState': 'UP'}, {'fabrics:TpID': 'sw1p3s2', 'fabrics:OperState': 'UP'}, {'fabrics:TpID': 'sw1p13s3', 'fabrics:OperState': 'UP'}, {'fabrics:TpID': 'sw1p3s3', 'fabrics:OperState': 'UP'}, {'fabrics:TpID': 'sw1p11s1', 'fabrics:OperState': 'UP'}, {'fabrics:TpID': 'sw1p9s4', 'fabrics:OperState': 'UP'}, {'fabrics:TpID': 'sw1p7s3', 'fabrics:OperState': 'UP'}, {'fabrics:TpID': 'sw1p15s1', 'fabrics:OperState': 'UP'}, {'fabrics:TpID': 'sw1p9s3', 'fabrics:OperState': 'UP'}, {'fabrics:TpID': 'sw1p9s2', 'fabrics:OperState': 'UP'}, {'fabrics:TpID': 'sw1p7s4', 'fabrics:OperState': 'UP'}, {'fabrics:TpID': 'sw1p5s2', 'fabrics:OperState': 'UP'}, {'fabrics:TpID': 'sw1p1s3', 'fabrics:OperState': 'UP'}, {'fabrics:TpID': 'sw1p13s4', 'fabrics:OperState': 'UP'}, {'fabrics:TpID': 'sw1p1s2', 'fabrics:OperState': 'UP'}, {'fabrics:TpID': 'sw1p13s1', 'fabrics:OperState': 'UP'}, {'fabrics:TpID': 'sw1p7s2', 'fabrics:OperState': 'UP'}, {'fabrics:TpID': 'sw1p3s1', 'fabrics:OperState': 'UP'}, {'fabrics:TpID': 'sw1p15s4', 'fabrics:OperState': 'UP'}, {'fabrics:TpID': 'sw1p9s1', 'fabrics:OperState': 'UP'}, {'fabrics:TpID': 'sw1p5s1', 'fabrics:OperState': 'UP'}, {'fabrics:TpID': 'sw1p1s1', 'fabrics:OperState': 'UP'}, {'fabrics:TpID': 'sw1p3s4', 'fabrics:OperState': 'UP'}, {'fabrics:TpID': 'sw1p15s2', 'fabrics:OperState': 'UP'}, {'fabrics:TpID': 'sw1p11s3', 'fabrics:OperState': 'UP'}, {'fabrics:TpID': 'sw1p11s2', 'fabrics:OperState': 'UP'}, {'fabrics:TpID': 'sw1p5s3', 'fabrics:OperState': 'UP'}, {'fabrics:TpID': 'sw1p15s3', 'fabrics:OperState': 'UP'}]}, {'fabrics:NodeID': '49ab97cd-cad8-4068-a00e-bb038bb886ba', 'fabrics:Role': 'LEAF', 'fabrics:TerminationPoint': [{'fabrics:TpID': 'sw1p5s4', 'fabrics:OperState': 'UP'}, {'fabrics:TpID': 'sw1p5s1', 'fabrics:OperState': 'UP'}, {'fabrics:TpID': 'sw1p3s4', 'fabrics:OperState': 'UP'}, {'fabrics:TpID': 'sw1p3s3', 'fabrics:OperState': 'UP'}, {'fabrics:TpID': 'sw1p31s2', 'fabrics:OperState': 'UP'}, {'fabrics:TpID': 'sw1p7s2', 'fabrics:OperState': 'UP'}, {'fabrics:TpID': 'sw1p31s3', 'fabrics:OperState': 'UP'}, {'fabrics:TpID': 'sw1p3s2', 'fabrics:OperState': 'UP'}, {'fabrics:TpID': 'sw1p7s4', 'fabrics:OperState': 'UP'}, {'fabrics:TpID': 'sw1p7s1', 'fabrics:OperState': 'UP'}, {'fabrics:TpID': 'sw1p5s3', 'fabrics:OperState': 'UP'}, {'fabrics:TpID': 'sw1p1s4', 'fabrics:OperState': 'UP'}, {'fabrics:TpID': 'sw1p1s2', 'fabrics:OperState': 'UP'}, {'fabrics:TpID': 'sw1p3s1', 'fabrics:OperState': 'UP'}, {'fabrics:TpID': 'sw1p7s3', 'fabrics:OperState': 'UP'}, {'fabrics:TpID': 'sw1p1s3', 'fabrics:OperState': 'UP'}, {'fabrics:TpID': 'sw1p1s1', 'fabrics:OperState': 'UP'}]}, {'fabrics:NodeID': '78bb9d3a-7066-48b8-9a4f-cc6cf2e1d5ec', 'fabrics:Role': 'CONTROLLER', 'fabrics:TerminationPoint': [{'fabrics:TpID': 'kvsenp4s0f0', 'fabrics:OperState': 'UP'}, {'fabrics:TpID': 'kvsenp4s0f1', 'fabrics:OperState': 'UP'}]}, {'fabrics:NodeID': '015574c7-2d81-4a60-8a5c-e3cb08ea468d', 'fabrics:Role': 'LEAF', 'fabrics:TerminationPoint': [{'fabrics:TpID': 'sw1p3s3', 'fabrics:OperState': 'UP'}, {'fabrics:TpID': 'sw1p5s4', 'fabrics:OperState': 'UP'}, {'fabrics:TpID': 'sw1p31s4', 'fabrics:OperState': 'UP'}, {'fabrics:TpID': 'sw1p31s2', 'fabrics:OperState': 'UP'}, {'fabrics:TpID': 'sw1p5s2', 'fabrics:OperState': 'UP'}, {'fabrics:TpID': 'sw1p1s2', 'fabrics:OperState': 'UP'}, {'fabrics:TpID': 'sw1p25s1', 'fabrics:OperState': 'UP'}, {'fabrics:TpID': 'sw1p3s2', 'fabrics:OperState': 'UP'}, {'fabrics:TpID': 'sw1p31s1', 'fabrics:OperState': 'UP'}, {'fabrics:TpID': 'sw1p25s2', 'fabrics:OperState': 'UP'}, {'fabrics:TpID': 'sw1p1s1', 'fabrics:OperState': 'UP'}, {'fabrics:TpID': 'sw1p1s4', 'fabrics:OperState': 'UP'}, {'fabrics:TpID': 'sw1p5s1', 'fabrics:OperState': 'UP'}, {'fabrics:TpID': 'sw1p7s2', 'fabrics:OperState': 'UP'}, {'fabrics:TpID': 'sw1p7s1', 'fabrics:OperState': 'UP'}, {'fabrics:TpID': 'sw1p3s1', 'fabrics:OperState': 'UP'}, {'fabrics:TpID': 'sw1p7s3', 'fabrics:OperState': 'UP'}, {'fabrics:TpID': 'sw1p5s3', 'fabrics:OperState': 'UP'}, {'fabrics:TpID': 'sw1p31s3', 'fabrics:OperState': 'UP'}, {'fabrics:TpID': 'sw1p25s3', 'fabrics:OperState': 'UP'}, {'fabrics:TpID': 'sw1p7s4', 'fabrics:OperState': 'UP'}, {'fabrics:TpID': 'sw1p3s4', 'fabrics:OperState': 'UP'}, {'fabrics:TpID': 'sw1p25s4', 'fabrics:OperState': 'UP'}, {'fabrics:TpID': 'sw1p1s3', 'fabrics:OperState': 'UP'}]}, {'fabrics:NodeID': 'e0ac728e-9d0a-4b2a-8ca4-29b00fab0612', 'fabrics:Role': 'SPINE', 'fabrics:TerminationPoint': [{'fabrics:TpID': 'sw1p5s3', 'fabrics:OperState': 'UP'}, {'fabrics:TpID': 'sw1p7s1', 'fabrics:OperState': 'UP'}, {'fabrics:TpID': 'sw1p3s1', 'fabrics:OperState': 'UP'}, {'fabrics:TpID': 'sw1p7s2', 'fabrics:OperState': 'UP'}, {'fabrics:TpID': 'sw1p3s3', 'fabrics:OperState': 'UP'}, {'fabrics:TpID': 'sw1p9s4', 'fabrics:OperState': 'UP'}, {'fabrics:TpID': 'sw1p1s1', 'fabrics:OperState': 'UP'}, {'fabrics:TpID': 'sw1p5s4', 'fabrics:OperState': 'UP'}, {'fabrics:TpID': 'sw1p9s2', 'fabrics:OperState': 'UP'}, {'fabrics:TpID': 'sw1p1s2', 'fabrics:OperState': 'UP'}, {'fabrics:TpID': 'sw1p5s1', 'fabrics:OperState': 'UP'}, {'fabrics:TpID': 'sw1p3s4', 'fabrics:OperState': 'UP'}, {'fabrics:TpID': 'sw1p15s2', 'fabrics:OperState': 'UP'}, {'fabrics:TpID': 'sw1p7s3', 'fabrics:OperState': 'UP'}, {'fabrics:TpID': 'sw1p1s3', 'fabrics:OperState': 'UP'}, {'fabrics:TpID': 'sw1p11s4', 'fabrics:OperState': 'UP'}, {'fabrics:TpID': 'sw1p11s1', 'fabrics:OperState': 'UP'}, {'fabrics:TpID': 'sw1p7s4', 'fabrics:OperState': 'UP'}, {'fabrics:TpID': 'sw1p15s1', 'fabrics:OperState': 'UP'}, {'fabrics:TpID': 'sw1p13s3', 'fabrics:OperState': 'UP'}, {'fabrics:TpID': 'sw1p1s4', 'fabrics:OperState': 'UP'}, {'fabrics:TpID': 'sw1p3s2', 'fabrics:OperState': 'UP'}, {'fabrics:TpID': 'sw1p15s3', 'fabrics:OperState': 'UP'}, {'fabrics:TpID': 'sw1p11s3', 'fabrics:OperState': 'UP'}, {'fabrics:TpID': 'sw1p13s1', 'fabrics:OperState': 'UP'}, {'fabrics:TpID': 'sw1p13s4', 'fabrics:OperState': 'UP'}, {'fabrics:TpID': 'sw1p5s2', 'fabrics:OperState': 'UP'}, {'fabrics:TpID': 'sw1p9s1', 'fabrics:OperState': 'UP'}, {'fabrics:TpID': 'sw1p15s4', 'fabrics:OperState': 'UP'}, {'fabrics:TpID': 'sw1p9s3', 'fabrics:OperState': 'UP'}, {'fabrics:TpID': 'sw1p11s2', 'fabrics:OperState': 'UP'}]}]}}}\n",
      "[{'fabrics:NodeID': '168c0ee5-9782-4842-80fe-520a088703ae', 'fabrics:Role': 'CONTROLLER', 'fabrics:TerminationPoint': {'fabrics:TpID': 'kvsenp4s0f0', 'fabrics:OperState': 'UP'}}, {'fabrics:NodeID': '7d3d3479-c58a-411d-a93f-60b039960bd0', 'fabrics:Role': 'CONTROLLER', 'fabrics:TerminationPoint': [{'fabrics:TpID': 'kvsenp4s0f0', 'fabrics:OperState': 'UP'}, {'fabrics:TpID': 'kvsenp4s0f1', 'fabrics:OperState': 'UP'}]}, {'fabrics:NodeID': 'afdf5672-20e9-4254-ac63-d34a5cda1486', 'fabrics:Role': 'LEAF', 'fabrics:TerminationPoint': [{'fabrics:TpID': 'sw1p7s1', 'fabrics:OperState': 'UP'}, {'fabrics:TpID': 'sw1p3s4', 'fabrics:OperState': 'UP'}, {'fabrics:TpID': 'sw1p7s2', 'fabrics:OperState': 'UP'}, {'fabrics:TpID': 'sw1p31s3', 'fabrics:OperState': 'UP'}, {'fabrics:TpID': 'sw1p31s2', 'fabrics:OperState': 'UP'}, {'fabrics:TpID': 'sw1p3s3', 'fabrics:OperState': 'UP'}, {'fabrics:TpID': 'sw1p5s2', 'fabrics:OperState': 'UP'}, {'fabrics:TpID': 'sw1p25s1', 'fabrics:OperState': 'UP'}, {'fabrics:TpID': 'sw1p7s3', 'fabrics:OperState': 'UP'}, {'fabrics:TpID': 'sw1p1s1', 'fabrics:OperState': 'UP'}, {'fabrics:TpID': 'sw1p5s3', 'fabrics:OperState': 'UP'}, {'fabrics:TpID': 'sw1p3s2', 'fabrics:OperState': 'UP'}, {'fabrics:TpID': 'sw1p7s4', 'fabrics:OperState': 'UP'}, {'fabrics:TpID': 'sw1p5s1', 'fabrics:OperState': 'UP'}, {'fabrics:TpID': 'sw1p1s2', 'fabrics:OperState': 'UP'}, {'fabrics:TpID': 'sw1p1s3', 'fabrics:OperState': 'UP'}, {'fabrics:TpID': 'sw1p3s1', 'fabrics:OperState': 'UP'}, {'fabrics:TpID': 'sw1p1s4', 'fabrics:OperState': 'UP'}, {'fabrics:TpID': 'sw1p5s4', 'fabrics:OperState': 'UP'}]}, {'fabrics:NodeID': 'df90eb6d-c978-4619-adbd-bc9893f525bd', 'fabrics:Role': 'LEAF', 'fabrics:TerminationPoint': [{'fabrics:TpID': 'sw1p7s4', 'fabrics:OperState': 'UP'}, {'fabrics:TpID': 'sw1p25s2', 'fabrics:OperState': 'UP'}, {'fabrics:TpID': 'sw1p3s4', 'fabrics:OperState': 'UP'}, {'fabrics:TpID': 'sw1p25s4', 'fabrics:OperState': 'UP'}, {'fabrics:TpID': 'sw1p3s2', 'fabrics:OperState': 'UP'}, {'fabrics:TpID': 'sw1p1s4', 'fabrics:OperState': 'UP'}, {'fabrics:TpID': 'sw1p25s3', 'fabrics:OperState': 'UP'}, {'fabrics:TpID': 'sw1p31s2', 'fabrics:OperState': 'UP'}, {'fabrics:TpID': 'sw1p7s3', 'fabrics:OperState': 'UP'}, {'fabrics:TpID': 'sw1p31s1', 'fabrics:OperState': 'UP'}, {'fabrics:TpID': 'sw1p1s2', 'fabrics:OperState': 'UP'}, {'fabrics:TpID': 'sw1p3s1', 'fabrics:OperState': 'UP'}, {'fabrics:TpID': 'sw1p5s3', 'fabrics:OperState': 'UP'}, {'fabrics:TpID': 'sw1p7s2', 'fabrics:OperState': 'UP'}, {'fabrics:TpID': 'sw1p7s1', 'fabrics:OperState': 'UP'}, {'fabrics:TpID': 'sw1p5s2', 'fabrics:OperState': 'UP'}, {'fabrics:TpID': 'sw1p5s4', 'fabrics:OperState': 'UP'}, {'fabrics:TpID': 'sw1p31s3', 'fabrics:OperState': 'UP'}, {'fabrics:TpID': 'sw1p5s1', 'fabrics:OperState': 'UP'}, {'fabrics:TpID': 'sw1p3s3', 'fabrics:OperState': 'UP'}, {'fabrics:TpID': 'sw1p1s1', 'fabrics:OperState': 'UP'}, {'fabrics:TpID': 'sw1p31s4', 'fabrics:OperState': 'UP'}, {'fabrics:TpID': 'sw1p1s3', 'fabrics:OperState': 'UP'}]}, {'fabrics:NodeID': '6054cf2d-15f3-4265-b0dc-b853ef136499', 'fabrics:Role': 'SPINE', 'fabrics:TerminationPoint': [{'fabrics:TpID': 'sw1p11s4', 'fabrics:OperState': 'UP'}, {'fabrics:TpID': 'sw1p5s4', 'fabrics:OperState': 'UP'}, {'fabrics:TpID': 'sw1p13s2', 'fabrics:OperState': 'UP'}, {'fabrics:TpID': 'sw1p7s1', 'fabrics:OperState': 'UP'}, {'fabrics:TpID': 'sw1p1s4', 'fabrics:OperState': 'UP'}, {'fabrics:TpID': 'sw1p3s2', 'fabrics:OperState': 'UP'}, {'fabrics:TpID': 'sw1p13s3', 'fabrics:OperState': 'UP'}, {'fabrics:TpID': 'sw1p3s3', 'fabrics:OperState': 'UP'}, {'fabrics:TpID': 'sw1p11s1', 'fabrics:OperState': 'UP'}, {'fabrics:TpID': 'sw1p9s4', 'fabrics:OperState': 'UP'}, {'fabrics:TpID': 'sw1p7s3', 'fabrics:OperState': 'UP'}, {'fabrics:TpID': 'sw1p15s1', 'fabrics:OperState': 'UP'}, {'fabrics:TpID': 'sw1p9s3', 'fabrics:OperState': 'UP'}, {'fabrics:TpID': 'sw1p9s2', 'fabrics:OperState': 'UP'}, {'fabrics:TpID': 'sw1p7s4', 'fabrics:OperState': 'UP'}, {'fabrics:TpID': 'sw1p5s2', 'fabrics:OperState': 'UP'}, {'fabrics:TpID': 'sw1p1s3', 'fabrics:OperState': 'UP'}, {'fabrics:TpID': 'sw1p13s4', 'fabrics:OperState': 'UP'}, {'fabrics:TpID': 'sw1p1s2', 'fabrics:OperState': 'UP'}, {'fabrics:TpID': 'sw1p13s1', 'fabrics:OperState': 'UP'}, {'fabrics:TpID': 'sw1p7s2', 'fabrics:OperState': 'UP'}, {'fabrics:TpID': 'sw1p3s1', 'fabrics:OperState': 'UP'}, {'fabrics:TpID': 'sw1p15s4', 'fabrics:OperState': 'UP'}, {'fabrics:TpID': 'sw1p9s1', 'fabrics:OperState': 'UP'}, {'fabrics:TpID': 'sw1p5s1', 'fabrics:OperState': 'UP'}, {'fabrics:TpID': 'sw1p1s1', 'fabrics:OperState': 'UP'}, {'fabrics:TpID': 'sw1p3s4', 'fabrics:OperState': 'UP'}, {'fabrics:TpID': 'sw1p15s2', 'fabrics:OperState': 'UP'}, {'fabrics:TpID': 'sw1p11s3', 'fabrics:OperState': 'UP'}, {'fabrics:TpID': 'sw1p11s2', 'fabrics:OperState': 'UP'}, {'fabrics:TpID': 'sw1p5s3', 'fabrics:OperState': 'UP'}, {'fabrics:TpID': 'sw1p15s3', 'fabrics:OperState': 'UP'}]}, {'fabrics:NodeID': '49ab97cd-cad8-4068-a00e-bb038bb886ba', 'fabrics:Role': 'LEAF', 'fabrics:TerminationPoint': [{'fabrics:TpID': 'sw1p5s4', 'fabrics:OperState': 'UP'}, {'fabrics:TpID': 'sw1p5s1', 'fabrics:OperState': 'UP'}, {'fabrics:TpID': 'sw1p3s4', 'fabrics:OperState': 'UP'}, {'fabrics:TpID': 'sw1p3s3', 'fabrics:OperState': 'UP'}, {'fabrics:TpID': 'sw1p31s2', 'fabrics:OperState': 'UP'}, {'fabrics:TpID': 'sw1p7s2', 'fabrics:OperState': 'UP'}, {'fabrics:TpID': 'sw1p31s3', 'fabrics:OperState': 'UP'}, {'fabrics:TpID': 'sw1p3s2', 'fabrics:OperState': 'UP'}, {'fabrics:TpID': 'sw1p7s4', 'fabrics:OperState': 'UP'}, {'fabrics:TpID': 'sw1p7s1', 'fabrics:OperState': 'UP'}, {'fabrics:TpID': 'sw1p5s3', 'fabrics:OperState': 'UP'}, {'fabrics:TpID': 'sw1p1s4', 'fabrics:OperState': 'UP'}, {'fabrics:TpID': 'sw1p1s2', 'fabrics:OperState': 'UP'}, {'fabrics:TpID': 'sw1p3s1', 'fabrics:OperState': 'UP'}, {'fabrics:TpID': 'sw1p7s3', 'fabrics:OperState': 'UP'}, {'fabrics:TpID': 'sw1p1s3', 'fabrics:OperState': 'UP'}, {'fabrics:TpID': 'sw1p1s1', 'fabrics:OperState': 'UP'}]}, {'fabrics:NodeID': '78bb9d3a-7066-48b8-9a4f-cc6cf2e1d5ec', 'fabrics:Role': 'CONTROLLER', 'fabrics:TerminationPoint': [{'fabrics:TpID': 'kvsenp4s0f0', 'fabrics:OperState': 'UP'}, {'fabrics:TpID': 'kvsenp4s0f1', 'fabrics:OperState': 'UP'}]}, {'fabrics:NodeID': '015574c7-2d81-4a60-8a5c-e3cb08ea468d', 'fabrics:Role': 'LEAF', 'fabrics:TerminationPoint': [{'fabrics:TpID': 'sw1p3s3', 'fabrics:OperState': 'UP'}, {'fabrics:TpID': 'sw1p5s4', 'fabrics:OperState': 'UP'}, {'fabrics:TpID': 'sw1p31s4', 'fabrics:OperState': 'UP'}, {'fabrics:TpID': 'sw1p31s2', 'fabrics:OperState': 'UP'}, {'fabrics:TpID': 'sw1p5s2', 'fabrics:OperState': 'UP'}, {'fabrics:TpID': 'sw1p1s2', 'fabrics:OperState': 'UP'}, {'fabrics:TpID': 'sw1p25s1', 'fabrics:OperState': 'UP'}, {'fabrics:TpID': 'sw1p3s2', 'fabrics:OperState': 'UP'}, {'fabrics:TpID': 'sw1p31s1', 'fabrics:OperState': 'UP'}, {'fabrics:TpID': 'sw1p25s2', 'fabrics:OperState': 'UP'}, {'fabrics:TpID': 'sw1p1s1', 'fabrics:OperState': 'UP'}, {'fabrics:TpID': 'sw1p1s4', 'fabrics:OperState': 'UP'}, {'fabrics:TpID': 'sw1p5s1', 'fabrics:OperState': 'UP'}, {'fabrics:TpID': 'sw1p7s2', 'fabrics:OperState': 'UP'}, {'fabrics:TpID': 'sw1p7s1', 'fabrics:OperState': 'UP'}, {'fabrics:TpID': 'sw1p3s1', 'fabrics:OperState': 'UP'}, {'fabrics:TpID': 'sw1p7s3', 'fabrics:OperState': 'UP'}, {'fabrics:TpID': 'sw1p5s3', 'fabrics:OperState': 'UP'}, {'fabrics:TpID': 'sw1p31s3', 'fabrics:OperState': 'UP'}, {'fabrics:TpID': 'sw1p25s3', 'fabrics:OperState': 'UP'}, {'fabrics:TpID': 'sw1p7s4', 'fabrics:OperState': 'UP'}, {'fabrics:TpID': 'sw1p3s4', 'fabrics:OperState': 'UP'}, {'fabrics:TpID': 'sw1p25s4', 'fabrics:OperState': 'UP'}, {'fabrics:TpID': 'sw1p1s3', 'fabrics:OperState': 'UP'}]}, {'fabrics:NodeID': 'e0ac728e-9d0a-4b2a-8ca4-29b00fab0612', 'fabrics:Role': 'SPINE', 'fabrics:TerminationPoint': [{'fabrics:TpID': 'sw1p5s3', 'fabrics:OperState': 'UP'}, {'fabrics:TpID': 'sw1p7s1', 'fabrics:OperState': 'UP'}, {'fabrics:TpID': 'sw1p3s1', 'fabrics:OperState': 'UP'}, {'fabrics:TpID': 'sw1p7s2', 'fabrics:OperState': 'UP'}, {'fabrics:TpID': 'sw1p3s3', 'fabrics:OperState': 'UP'}, {'fabrics:TpID': 'sw1p9s4', 'fabrics:OperState': 'UP'}, {'fabrics:TpID': 'sw1p1s1', 'fabrics:OperState': 'UP'}, {'fabrics:TpID': 'sw1p5s4', 'fabrics:OperState': 'UP'}, {'fabrics:TpID': 'sw1p9s2', 'fabrics:OperState': 'UP'}, {'fabrics:TpID': 'sw1p1s2', 'fabrics:OperState': 'UP'}, {'fabrics:TpID': 'sw1p5s1', 'fabrics:OperState': 'UP'}, {'fabrics:TpID': 'sw1p3s4', 'fabrics:OperState': 'UP'}, {'fabrics:TpID': 'sw1p15s2', 'fabrics:OperState': 'UP'}, {'fabrics:TpID': 'sw1p7s3', 'fabrics:OperState': 'UP'}, {'fabrics:TpID': 'sw1p1s3', 'fabrics:OperState': 'UP'}, {'fabrics:TpID': 'sw1p11s4', 'fabrics:OperState': 'UP'}, {'fabrics:TpID': 'sw1p11s1', 'fabrics:OperState': 'UP'}, {'fabrics:TpID': 'sw1p7s4', 'fabrics:OperState': 'UP'}, {'fabrics:TpID': 'sw1p15s1', 'fabrics:OperState': 'UP'}, {'fabrics:TpID': 'sw1p13s3', 'fabrics:OperState': 'UP'}, {'fabrics:TpID': 'sw1p1s4', 'fabrics:OperState': 'UP'}, {'fabrics:TpID': 'sw1p3s2', 'fabrics:OperState': 'UP'}, {'fabrics:TpID': 'sw1p15s3', 'fabrics:OperState': 'UP'}, {'fabrics:TpID': 'sw1p11s3', 'fabrics:OperState': 'UP'}, {'fabrics:TpID': 'sw1p13s1', 'fabrics:OperState': 'UP'}, {'fabrics:TpID': 'sw1p13s4', 'fabrics:OperState': 'UP'}, {'fabrics:TpID': 'sw1p5s2', 'fabrics:OperState': 'UP'}, {'fabrics:TpID': 'sw1p9s1', 'fabrics:OperState': 'UP'}, {'fabrics:TpID': 'sw1p15s4', 'fabrics:OperState': 'UP'}, {'fabrics:TpID': 'sw1p9s3', 'fabrics:OperState': 'UP'}, {'fabrics:TpID': 'sw1p11s2', 'fabrics:OperState': 'UP'}]}]\n"
     ]
    }
   ],
   "source": [
    "tp_dict={}\n",
    "rpc=\"\"\"<get>\n",
    "\t<filter type=\"subtree\">\n",
    "\t\t<Fabric\n",
    "\t\t\txmlns=\"urn:kaloom:faas:fabrics\">\n",
    "\t\t\t<FabricID>123</FabricID>\n",
    "\t\t\t<Node>\n",
    "\t\t\t\t<Role></Role>\n",
    "\t\t\t\t<TerminationPoint>\n",
    "\t\t\t\t\t<OperState>UP</OperState>\n",
    "\t\t\t\t\t<TpID/>\n",
    "\t\t\t\t</TerminationPoint>\n",
    "\t\t\t</Node>\n",
    "\t\t</Fabric>\n",
    "\t</filter>\n",
    "</get>\"\"\" \n",
    "\n",
    "rpc_request = to_ele(rpc)\n",
    "tp_dict={}\n",
    "print(rpc_request)\n",
    "source = kaloom_netconf_rpc(rpc)\n",
    "print(source)\n",
    "tp_oper=source['data']['fabrics:Fabric']['fabrics:Node']\n",
    "print(tp_oper)"
   ]
  }
 ],
 "metadata": {
  "kernelspec": {
   "display_name": "ksdf",
   "language": "python",
   "name": "python3"
  },
  "language_info": {
   "codemirror_mode": {
    "name": "ipython",
    "version": 3
   },
   "file_extension": ".py",
   "mimetype": "text/x-python",
   "name": "python",
   "nbconvert_exporter": "python",
   "pygments_lexer": "ipython3",
   "version": "3.9.1"
  },
  "orig_nbformat": 4
 },
 "nbformat": 4,
 "nbformat_minor": 2
}
