{
 "cells": [
  {
   "cell_type": "code",
   "execution_count": 1,
   "id": "66c956fe",
   "metadata": {},
   "outputs": [],
   "source": [
    "# greeter_client.py 파일 생성\n",
    "#pip install grpcio\n",
    "#pip install google\n",
    "#pip install protobuf==4.21.1\n",
    "import sys\n",
    "sys.path.append('openstack')\n",
    "import opst_sdk_token\n",
    "\n",
    "import requests\n",
    "import json"
   ]
  },
  {
   "cell_type": "code",
   "execution_count": 10,
   "id": "d9bf9744",
   "metadata": {},
   "outputs": [
    {
     "name": "stdout",
     "output_type": "stream",
     "text": [
      "Collecting protobuf==4.21.1\n",
      "  Downloading protobuf-4.21.1-cp39-cp39-win_amd64.whl (524 kB)\n",
      "Installing collected packages: protobuf\n",
      "  Attempting uninstall: protobuf\n",
      "    Found existing installation: protobuf 3.19.4\n",
      "    Uninstalling protobuf-3.19.4:\n",
      "      Successfully uninstalled protobuf-3.19.4\n",
      "Successfully installed protobuf-4.21.1\n",
      "Note: you may need to restart the kernel to use updated packages.\n"
     ]
    }
   ],
   "source": [
    "#pip install protobuf==4.21.1"
   ]
  },
  {
   "cell_type": "code",
   "execution_count": 2,
   "id": "ef476ecd",
   "metadata": {},
   "outputs": [],
   "source": [
    "def get_x_auth_token():\n",
    "    x_auth_token=opst_sdk_token.getOpstAdminToken('192.168.15.40:50052')\n",
    "    print(x_auth_token)\n",
    "    return x_auth_token"
   ]
  },
  {
   "cell_type": "code",
   "execution_count": 3,
   "id": "de7b6ab3",
   "metadata": {},
   "outputs": [
    {
     "name": "stdout",
     "output_type": "stream",
     "text": [
      "192.168.15.40:50052\n",
      "gAAAAABjbLXC81jhFSpU58c4IniXaeT-jAeprFHDzeZzbI7qeMQ5-SjET-RSexxZd7A-59oyX22pukDEf8HpovI2m0R2f1VtjSbIeArCG5gHoVIllIUzf0CYgNFxqQHxQ3d4E6vRZfB6EzHks8HvLUt1q59yNK4goPLvGzfZeVR8JAf43mGpMFI\n"
     ]
    }
   ],
   "source": [
    "x_auth_token=get_x_auth_token()"
   ]
  },
  {
   "cell_type": "code",
   "execution_count": 16,
   "id": "ce5057c3",
   "metadata": {},
   "outputs": [],
   "source": [
    "def get_with_x_auth(x_auth_token,url):\n",
    "    headers = {'X-Auth-Token': x_auth_token}\n",
    "    r=requests.get(url, headers=headers)\n",
    "    return(json.loads(r.text))"
   ]
  },
  {
   "cell_type": "code",
   "execution_count": 22,
   "id": "bdde1eab",
   "metadata": {},
   "outputs": [],
   "source": [
    "ip ='192.168.15.40'\n",
    "port=8774\n",
    "basic_url = 'http://' + ip + ':' + str(port) # + '/v2.1/servers'"
   ]
  },
  {
   "cell_type": "code",
   "execution_count": 27,
   "id": "d6c436ed",
   "metadata": {},
   "outputs": [],
   "source": [
    "all_server_info=get_with_x_auth(x_auth_token,basic_url + '/v2.1/servers/detail')\n"
   ]
  },
  {
   "cell_type": "code",
   "execution_count": 28,
   "id": "f14a2e5f",
   "metadata": {},
   "outputs": [
    {
     "data": {
      "text/plain": [
       "{'servers': [{'OS-EXT-STS:task_state': None,\n",
       "   'addresses': {'ssn_web': [{'OS-EXT-IPS-MAC:mac_addr': 'fa:16:3e:42:cc:8f',\n",
       "      'version': 4,\n",
       "      'addr': '10.0.11.187',\n",
       "      'OS-EXT-IPS:type': 'fixed'}]},\n",
       "   'links': [{'href': 'http://192.168.15.40:8774/v2.1/servers/59aeacf7-60ec-41c2-88bb-f1e75f15932c',\n",
       "     'rel': 'self'},\n",
       "    {'href': 'http://192.168.15.40:8774/servers/59aeacf7-60ec-41c2-88bb-f1e75f15932c',\n",
       "     'rel': 'bookmark'}],\n",
       "   'image': {'id': '19611ffb-5a80-4f88-9c11-992e5be2faef',\n",
       "    'links': [{'href': 'http://192.168.15.40:8774/images/19611ffb-5a80-4f88-9c11-992e5be2faef',\n",
       "      'rel': 'bookmark'}]},\n",
       "   'OS-EXT-STS:vm_state': 'active',\n",
       "   'OS-SRV-USG:launched_at': '2022-10-24T07:00:16.000000',\n",
       "   'flavor': {'id': '2',\n",
       "    'links': [{'href': 'http://192.168.15.40:8774/flavors/2',\n",
       "      'rel': 'bookmark'}]},\n",
       "   'id': '59aeacf7-60ec-41c2-88bb-f1e75f15932c',\n",
       "   'security_groups': [{'name': 'web-server'}],\n",
       "   'user_id': '9c1484e260f9444aa5b9f708641655d7',\n",
       "   'OS-DCF:diskConfig': 'AUTO',\n",
       "   'accessIPv4': '',\n",
       "   'accessIPv6': '',\n",
       "   'progress': 0,\n",
       "   'OS-EXT-STS:power_state': 1,\n",
       "   'OS-EXT-AZ:availability_zone': 'nova',\n",
       "   'config_drive': '',\n",
       "   'status': 'ACTIVE',\n",
       "   'updated': '2022-10-27T00:43:48Z',\n",
       "   'hostId': '043ddaa96711f3a3bec804832446c5bb8a1155f18e01780dfb03de07',\n",
       "   'OS-SRV-USG:terminated_at': None,\n",
       "   'key_name': 'mykey',\n",
       "   'name': 'web-server',\n",
       "   'created': '2022-10-24T07:00:05Z',\n",
       "   'tenant_id': '925aba3de85a48ccb284bf02edc1c18e',\n",
       "   'os-extended-volumes:volumes_attached': [],\n",
       "   'metadata': {'cluster_node_id': 'b7bc7e58-bdf7-4926-9338-c6b40f727150',\n",
       "    'cluster_id': '6422c4f4-9246-4b8a-9ee6-70bfd9afa59c',\n",
       "    'cluster_node_index': '1016'}},\n",
       "  {'OS-EXT-STS:task_state': None,\n",
       "   'addresses': {'ssn_web': [{'OS-EXT-IPS-MAC:mac_addr': 'fa:16:3e:88:d8:25',\n",
       "      'version': 4,\n",
       "      'addr': '10.0.11.169',\n",
       "      'OS-EXT-IPS:type': 'fixed'}]},\n",
       "   'links': [{'href': 'http://192.168.15.40:8774/v2.1/servers/479c76f6-0cd4-4e31-81c4-bf26e34c9e41',\n",
       "     'rel': 'self'},\n",
       "    {'href': 'http://192.168.15.40:8774/servers/479c76f6-0cd4-4e31-81c4-bf26e34c9e41',\n",
       "     'rel': 'bookmark'}],\n",
       "   'image': '',\n",
       "   'OS-EXT-STS:vm_state': 'active',\n",
       "   'OS-SRV-USG:launched_at': '2022-10-24T02:42:33.000000',\n",
       "   'flavor': {'id': '2',\n",
       "    'links': [{'href': 'http://192.168.15.40:8774/flavors/2',\n",
       "      'rel': 'bookmark'}]},\n",
       "   'id': '479c76f6-0cd4-4e31-81c4-bf26e34c9e41',\n",
       "   'security_groups': [{'name': 'web-server'}],\n",
       "   'user_id': '9c1484e260f9444aa5b9f708641655d7',\n",
       "   'OS-DCF:diskConfig': 'AUTO',\n",
       "   'accessIPv4': '',\n",
       "   'accessIPv6': '',\n",
       "   'progress': 0,\n",
       "   'OS-EXT-STS:power_state': 1,\n",
       "   'OS-EXT-AZ:availability_zone': 'nova',\n",
       "   'config_drive': '',\n",
       "   'status': 'ACTIVE',\n",
       "   'updated': '2022-10-24T02:42:33Z',\n",
       "   'hostId': '043ddaa96711f3a3bec804832446c5bb8a1155f18e01780dfb03de07',\n",
       "   'OS-SRV-USG:terminated_at': None,\n",
       "   'key_name': 'mykey',\n",
       "   'name': 'test-web',\n",
       "   'created': '2022-10-24T02:42:19Z',\n",
       "   'tenant_id': '925aba3de85a48ccb284bf02edc1c18e',\n",
       "   'os-extended-volumes:volumes_attached': [{'id': '8fbe1680-d148-4e39-99f9-f09a6fd2462d'}],\n",
       "   'metadata': {}}]}"
      ]
     },
     "execution_count": 28,
     "metadata": {},
     "output_type": "execute_result"
    }
   ],
   "source": [
    "all_server_info"
   ]
  },
  {
   "cell_type": "code",
   "execution_count": null,
   "id": "ae063133",
   "metadata": {},
   "outputs": [],
   "source": []
  }
 ],
 "metadata": {
  "kernelspec": {
   "display_name": "Python 3 (ipykernel)",
   "language": "python",
   "name": "python3"
  },
  "language_info": {
   "codemirror_mode": {
    "name": "ipython",
    "version": 3
   },
   "file_extension": ".py",
   "mimetype": "text/x-python",
   "name": "python",
   "nbconvert_exporter": "python",
   "pygments_lexer": "ipython3",
   "version": "3.9.12"
  }
 },
 "nbformat": 4,
 "nbformat_minor": 5
}
